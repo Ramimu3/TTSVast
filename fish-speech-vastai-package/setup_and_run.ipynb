{
 "cells": [
  {
   "cell_type": "markdown",
   "metadata": {},
   "source": [
    "# 🐟 Fish Speech Setup and API Server for vast.ai\n",
    "\n",
    "This notebook will help you set up Fish Speech on vast.ai and start the API server.\n",
    "\n",
    "## 📋 Prerequisites\n",
    "- Upload this entire folder to your vast.ai Jupyter environment\n",
    "- Make sure you have a GPU instance (recommended: RTX 3090 or better)\n",
    "- Ensure you have at least 10GB of storage space\n"
   ]
  },
  {
   "cell_type": "markdown",
   "metadata": {},
   "source": [
    "## 🔧 Step 1: System Setup\n",
    "Run this cell to install system dependencies and set up the environment:"
   ]
  },
  {
   "cell_type": "code",
   "execution_count": null,
   "metadata": {},
   "outputs": [],
   "source": [
    "# Make scripts executable\n",
    "!chmod +x setup_vastai.sh start_api_server.sh start_webui.sh\n",
    "\n",
    "# Run the setup script\n",
    "!./setup_vastai.sh"
   ]
  },
  {
   "cell_type": "markdown",
   "metadata": {},
   "source": [
    "## 🚀 Step 2: Test the Installation\n",
    "Let's verify that everything is working correctly:"
   ]
  },
  {
   "cell_type": "code",
   "execution_count": null,
   "metadata": {},
   "outputs": [],
   "source": [
    "# Activate the virtual environment and test CUDA\n",
    "import subprocess\n",
    "import sys\n",
    "\n",
    "# Activate virtual environment\n",
    "activate_cmd = \"source .venv/bin/activate && python -c 'import torch; print(f\\\"CUDA available: {torch.cuda.is_available()}\\\"); print(f\\\"GPU count: {torch.cuda.device_count()}\\\"); print(f\\\"GPU name: {torch.cuda.get_device_name(0) if torch.cuda.is_available() else \\\"N/A\\\"}\\\")'\"\n",
    "\n",
    "result = subprocess.run(activate_cmd, shell=True, capture_output=True, text=True, executable='/bin/bash')\n",
    "print(\"CUDA Test Results:\")\n",
    "print(result.stdout)\n",
    "if result.stderr:\n",
    "    print(\"Errors:\", result.stderr)"
   ]
  },
  {
   "cell_type": "markdown",
   "metadata": {},
   "source": [
    "## 🌐 Step 3: Start the API Server\n",
    "Choose one of the options below:"
   ]
  },
  {
   "cell_type": "markdown",
   "metadata": {},
   "source": [
    "### Option A: Start API Server in Background\n",
    "This will start the API server and return control to the notebook:"
   ]
  },
  {
   "cell_type": "code",
   "execution_count": null,
   "metadata": {},
   "outputs": [],
   "source": [
    "import subprocess\n",
    "import time\n",
    "import requests\n",
    "\n",
    "# Start the API server in background\n",
    "print(\"🚀 Starting Fish Speech API Server...\")\n",
    "process = subprocess.Popen(['./start_api_server.sh'], \n",
    "                          stdout=subprocess.PIPE, \n",
    "                          stderr=subprocess.STDOUT, \n",
    "                          universal_newlines=True)\n",
    "\n",
    "# Wait a bit for the server to start\n",
    "print(\"⏳ Waiting for server to start...\")\n",
    "time.sleep(30)\n",
    "\n",
    "# Check if server is running\n",
    "try:\n",
    "    response = requests.get('http://localhost:8080/docs', timeout=5)\n",
    "    if response.status_code == 200:\n",
    "        print(\"✅ API Server is running!\")\n",
    "        print(\"📡 API Documentation: http://localhost:8080/docs\")\n",
    "        print(\"🔗 External URL: http://[YOUR_VAST_IP]:8080\")\n",
    "    else:\n",
    "        print(\"⚠️ Server might still be starting...\")\n",
    "except:\n",
    "    print(\"⚠️ Server might still be starting or there's an issue...\")\n",
    "\n",
    "print(\"\\n📝 Server process ID:\", process.pid)\n",
    "print(\"💡 To stop the server, restart this notebook or run: kill\", process.pid)"
   ]
  },
  {
   "cell_type": "markdown",
   "metadata": {},
   "source": [
    "### Option B: Start Web UI (Alternative)\n",
    "If you prefer the web interface instead of API:"
   ]
  },
  {
   "cell_type": "code",
   "execution_count": null,
   "metadata": {},
   "outputs": [],
   "source": [
    "# Uncomment and run this if you want the Web UI instead\n",
    "# !./start_webui.sh"
   ]
  },
  {
   "cell_type": "markdown",
   "metadata": {},
   "source": [
    "## 🧪 Step 4: Test the API\n",
    "Let's test the API with a simple request:"
   ]
  },
  {
   "cell_type": "code",
   "execution_count": null,
   "metadata": {},
   "outputs": [],
   "source": [
    "import requests\n",
    "import json\n",
    "from IPython.display import Audio\n",
    "import io\n",
    "\n",
    "# Test the API\n",
    "def test_fish_speech_api():\n",
    "    url = \"http://localhost:8080/v1/tts\"\n",
    "    \n",
    "    data = {\n",
    "        \"text\": \"Hello! This is Fish Speech running on vast.ai. The setup was successful!\",\n",
    "        \"max_new_tokens\": 1024,\n",
    "        \"chunk_length\": 200,\n",
    "        \"top_p\": 0.7,\n",
    "        \"repetition_penalty\": 1.2,\n",
    "        \"temperature\": 0.7\n",
    "    }\n",
    "    \n",
    "    try:\n",
    "        print(\"🎤 Generating speech...\")\n",
    "        response = requests.post(url, json=data, timeout=120)\n",
    "        \n",
    "        if response.status_code == 200:\n",
    "            print(\"✅ Speech generated successfully!\")\n",
    "            \n",
    "            # Save the audio\n",
    "            with open('test_output.wav', 'wb') as f:\n",
    "                f.write(response.content)\n",
    "            \n",
    "            # Play the audio in the notebook\n",
    "            return Audio('test_output.wav')\n",
    "        else:\n",
    "            print(f\"❌ Error: {response.status_code} - {response.text}\")\n",
    "            return None\n",
    "            \n",
    "    except Exception as e:\n",
    "        print(f\"❌ Error testing API: {e}\")\n",
    "        return None\n",
    "\n",
    "# Run the test\n",
    "audio_result = test_fish_speech_api()\n",
    "if audio_result:\n",
    "    display(audio_result)"
   ]
  },
  {
   "cell_type": "markdown",
   "metadata": {},
   "source": [
    "## 📊 Step 5: Get Server Information\n",
    "Check server status and get connection details:"
   ]
  },
  {
   "cell_type": "code",
   "execution_count": null,
   "metadata": {},
   "outputs": [],
   "source": [
    "import requests\n",
    "import socket\n",
    "\n",
    "# Get the external IP\n",
    "try:\n",
    "    external_ip = requests.get('https://api.ipify.org', timeout=5).text\n",
    "    print(f\"🌐 Your vast.ai external IP: {external_ip}\")\n",
    "    print(f\"🔗 API Base URL: http://{external_ip}:8080\")\n",
    "    print(f\"📚 API Documentation: http://{external_ip}:8080/docs\")\n",
    "except:\n",
    "    print(\"❌ Could not get external IP\")\n",
    "\n",
    "# Check API health\n",
    "try:\n",
    "    response = requests.get('http://localhost:8080/docs', timeout=5)\n",
    "    print(f\"\\n✅ API Server Status: {'Running' if response.status_code == 200 else 'Not responding'}\")\n",
    "except:\n",
    "    print(\"\\n❌ API Server Status: Not running\")\n",
    "\n",
    "print(\"\\n📋 Connection Information:\")\n",
    "print(\"   - Port: 8080\")\n",
    "print(\"   - Protocol: HTTP\")\n",
    "print(\"   - Endpoint: /v1/tts\")\n",
    "print(\"   - Method: POST\")\n",
    "print(\"\\n💡 Use the api_client_example.py for connecting from your application!\")"
   ]
  }
 ],
 "metadata": {
  "kernelspec": {
   "display_name": "Python 3",
   "language": "python",
   "name": "python3"
  },
  "language_info": {
   "codemirror_mode": {
    "name": "ipython",
    "version": 3
   },
   "file_extension": ".py",
   "mimetype": "text/x-python",
   "name": "python",
   "nbconvert_exporter": "python",
   "pygments_lexer": "ipython3",
   "version": "3.12.0"
  }
 },
 "nbformat": 4,
 "nbformat_minor": 4
}
